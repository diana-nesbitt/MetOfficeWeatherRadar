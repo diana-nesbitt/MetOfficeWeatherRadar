{
 "cells": [
  {
   "cell_type": "code",
   "execution_count": 3,
   "id": "5476800e",
   "metadata": {},
   "outputs": [],
   "source": [
    "import warnings\n",
    "warnings.filterwarnings('ignore')\n",
    "#Read the .h5 file\n",
    "import h5py\n",
    "#Build spreadSheets\n",
    "import pandas as pd\n",
    "#mathematical operations and array functions\n",
    "import numpy as np\n",
    "#Building and Using radar objecta\n",
    "import pyart\n",
    "#Plotting graphs\n",
    "import matplotlib.pyplot as plt\n",
    "#Getting computer's info\n",
    "import os\n",
    "#Same\n",
    "import sys\n",
    "#Getting the map for radar plottings\n",
    "import cartopy.crs as ccrs\n",
    "#Warning do not edit the utilities file \n",
    "from utilities import *\n",
    "import datetime"
   ]
  },
  {
   "cell_type": "code",
   "execution_count": 4,
   "id": "ae4c6fa6",
   "metadata": {},
   "outputs": [
    {
     "ename": "FileNotFoundError",
     "evalue": "[Errno 2] Unable to open file (unable to open file: name = '../data/all_data/202202130255_polar_pl_radar08b0_augzdr_lp_canonical', errno = 2, error message = 'No such file or directory', flags = 1, o_flags = 2)",
     "output_type": "error",
     "traceback": [
      "\u001b[1;31m---------------------------------------------------------------------------\u001b[0m",
      "\u001b[1;31mFileNotFoundError\u001b[0m                         Traceback (most recent call last)",
      "\u001b[1;32m~\\AppData\\Local\\Temp\\ipykernel_380\\1183345239.py\u001b[0m in \u001b[0;36m<module>\u001b[1;34m\u001b[0m\n\u001b[1;32m----> 1\u001b[1;33m \u001b[0mh5\u001b[0m \u001b[1;33m=\u001b[0m \u001b[0mh5py\u001b[0m\u001b[1;33m.\u001b[0m\u001b[0mFile\u001b[0m\u001b[1;33m(\u001b[0m\u001b[1;34m'../data/all_data/202202130255_polar_pl_radar08b0_augzdr_lp_canonical'\u001b[0m\u001b[1;33m,\u001b[0m \u001b[1;34m'r+'\u001b[0m\u001b[1;33m)\u001b[0m\u001b[1;33m\u001b[0m\u001b[1;33m\u001b[0m\u001b[0m\n\u001b[0m",
      "\u001b[1;32m~\\anaconda3\\lib\\site-packages\\h5py\\_hl\\files.py\u001b[0m in \u001b[0;36m__init__\u001b[1;34m(self, name, mode, driver, libver, userblock_size, swmr, rdcc_nslots, rdcc_nbytes, rdcc_w0, track_order, fs_strategy, fs_persist, fs_threshold, fs_page_size, page_buf_size, min_meta_keep, min_raw_keep, locking, alignment_threshold, alignment_interval, **kwds)\u001b[0m\n\u001b[0;32m    531\u001b[0m                                  \u001b[0mfs_persist\u001b[0m\u001b[1;33m=\u001b[0m\u001b[0mfs_persist\u001b[0m\u001b[1;33m,\u001b[0m \u001b[0mfs_threshold\u001b[0m\u001b[1;33m=\u001b[0m\u001b[0mfs_threshold\u001b[0m\u001b[1;33m,\u001b[0m\u001b[1;33m\u001b[0m\u001b[1;33m\u001b[0m\u001b[0m\n\u001b[0;32m    532\u001b[0m                                  fs_page_size=fs_page_size)\n\u001b[1;32m--> 533\u001b[1;33m                 \u001b[0mfid\u001b[0m \u001b[1;33m=\u001b[0m \u001b[0mmake_fid\u001b[0m\u001b[1;33m(\u001b[0m\u001b[0mname\u001b[0m\u001b[1;33m,\u001b[0m \u001b[0mmode\u001b[0m\u001b[1;33m,\u001b[0m \u001b[0muserblock_size\u001b[0m\u001b[1;33m,\u001b[0m \u001b[0mfapl\u001b[0m\u001b[1;33m,\u001b[0m \u001b[0mfcpl\u001b[0m\u001b[1;33m,\u001b[0m \u001b[0mswmr\u001b[0m\u001b[1;33m=\u001b[0m\u001b[0mswmr\u001b[0m\u001b[1;33m)\u001b[0m\u001b[1;33m\u001b[0m\u001b[1;33m\u001b[0m\u001b[0m\n\u001b[0m\u001b[0;32m    534\u001b[0m \u001b[1;33m\u001b[0m\u001b[0m\n\u001b[0;32m    535\u001b[0m             \u001b[1;32mif\u001b[0m \u001b[0misinstance\u001b[0m\u001b[1;33m(\u001b[0m\u001b[0mlibver\u001b[0m\u001b[1;33m,\u001b[0m \u001b[0mtuple\u001b[0m\u001b[1;33m)\u001b[0m\u001b[1;33m:\u001b[0m\u001b[1;33m\u001b[0m\u001b[1;33m\u001b[0m\u001b[0m\n",
      "\u001b[1;32m~\\anaconda3\\lib\\site-packages\\h5py\\_hl\\files.py\u001b[0m in \u001b[0;36mmake_fid\u001b[1;34m(name, mode, userblock_size, fapl, fcpl, swmr)\u001b[0m\n\u001b[0;32m    226\u001b[0m         \u001b[0mfid\u001b[0m \u001b[1;33m=\u001b[0m \u001b[0mh5f\u001b[0m\u001b[1;33m.\u001b[0m\u001b[0mopen\u001b[0m\u001b[1;33m(\u001b[0m\u001b[0mname\u001b[0m\u001b[1;33m,\u001b[0m \u001b[0mflags\u001b[0m\u001b[1;33m,\u001b[0m \u001b[0mfapl\u001b[0m\u001b[1;33m=\u001b[0m\u001b[0mfapl\u001b[0m\u001b[1;33m)\u001b[0m\u001b[1;33m\u001b[0m\u001b[1;33m\u001b[0m\u001b[0m\n\u001b[0;32m    227\u001b[0m     \u001b[1;32melif\u001b[0m \u001b[0mmode\u001b[0m \u001b[1;33m==\u001b[0m \u001b[1;34m'r+'\u001b[0m\u001b[1;33m:\u001b[0m\u001b[1;33m\u001b[0m\u001b[1;33m\u001b[0m\u001b[0m\n\u001b[1;32m--> 228\u001b[1;33m         \u001b[0mfid\u001b[0m \u001b[1;33m=\u001b[0m \u001b[0mh5f\u001b[0m\u001b[1;33m.\u001b[0m\u001b[0mopen\u001b[0m\u001b[1;33m(\u001b[0m\u001b[0mname\u001b[0m\u001b[1;33m,\u001b[0m \u001b[0mh5f\u001b[0m\u001b[1;33m.\u001b[0m\u001b[0mACC_RDWR\u001b[0m\u001b[1;33m,\u001b[0m \u001b[0mfapl\u001b[0m\u001b[1;33m=\u001b[0m\u001b[0mfapl\u001b[0m\u001b[1;33m)\u001b[0m\u001b[1;33m\u001b[0m\u001b[1;33m\u001b[0m\u001b[0m\n\u001b[0m\u001b[0;32m    229\u001b[0m     \u001b[1;32melif\u001b[0m \u001b[0mmode\u001b[0m \u001b[1;32min\u001b[0m \u001b[1;33m[\u001b[0m\u001b[1;34m'w-'\u001b[0m\u001b[1;33m,\u001b[0m \u001b[1;34m'x'\u001b[0m\u001b[1;33m]\u001b[0m\u001b[1;33m:\u001b[0m\u001b[1;33m\u001b[0m\u001b[1;33m\u001b[0m\u001b[0m\n\u001b[0;32m    230\u001b[0m         \u001b[0mfid\u001b[0m \u001b[1;33m=\u001b[0m \u001b[0mh5f\u001b[0m\u001b[1;33m.\u001b[0m\u001b[0mcreate\u001b[0m\u001b[1;33m(\u001b[0m\u001b[0mname\u001b[0m\u001b[1;33m,\u001b[0m \u001b[0mh5f\u001b[0m\u001b[1;33m.\u001b[0m\u001b[0mACC_EXCL\u001b[0m\u001b[1;33m,\u001b[0m \u001b[0mfapl\u001b[0m\u001b[1;33m=\u001b[0m\u001b[0mfapl\u001b[0m\u001b[1;33m,\u001b[0m \u001b[0mfcpl\u001b[0m\u001b[1;33m=\u001b[0m\u001b[0mfcpl\u001b[0m\u001b[1;33m)\u001b[0m\u001b[1;33m\u001b[0m\u001b[1;33m\u001b[0m\u001b[0m\n",
      "\u001b[1;32mh5py\\_objects.pyx\u001b[0m in \u001b[0;36mh5py._objects.with_phil.wrapper\u001b[1;34m()\u001b[0m\n",
      "\u001b[1;32mh5py\\_objects.pyx\u001b[0m in \u001b[0;36mh5py._objects.with_phil.wrapper\u001b[1;34m()\u001b[0m\n",
      "\u001b[1;32mh5py\\h5f.pyx\u001b[0m in \u001b[0;36mh5py.h5f.open\u001b[1;34m()\u001b[0m\n",
      "\u001b[1;31mFileNotFoundError\u001b[0m: [Errno 2] Unable to open file (unable to open file: name = '../data/all_data/202202130255_polar_pl_radar08b0_augzdr_lp_canonical', errno = 2, error message = 'No such file or directory', flags = 1, o_flags = 2)"
     ]
    }
   ],
   "source": [
    "h5 = h5py.File('../data/all_data/202202130255_polar_pl_radar08b0_augzdr_lp_canonical', 'r+')"
   ]
  },
  {
   "cell_type": "code",
   "execution_count": 5,
   "id": "6990aafb",
   "metadata": {},
   "outputs": [],
   "source": [
    "def create_single_radar_file(h5filename, originalfilename, location):\n",
    "    \n",
    "    if h5filename[\"what\"].attrs[\"object\"] == b'scan': #In this case it isn't, it's already SCAN\n",
    "        h5filename[\"what\"].attrs.__setitem__(\"object\", \"SCAN\")\n",
    "        \n",
    "    radar = pyart.aux_io.read_odim_h5(location + \"/\" + originalfilename)\n",
    "    return radar\n",
    "    dfile.close()"
   ]
  },
  {
   "cell_type": "code",
   "execution_count": 6,
   "id": "547856e5",
   "metadata": {},
   "outputs": [
    {
     "ename": "NameError",
     "evalue": "name 'h5' is not defined",
     "output_type": "error",
     "traceback": [
      "\u001b[1;31m---------------------------------------------------------------------------\u001b[0m",
      "\u001b[1;31mNameError\u001b[0m                                 Traceback (most recent call last)",
      "\u001b[1;32m~\\AppData\\Local\\Temp\\ipykernel_380\\3401790338.py\u001b[0m in \u001b[0;36m<module>\u001b[1;34m\u001b[0m\n\u001b[1;32m----> 1\u001b[1;33m \u001b[0mcreate_single_radar_file\u001b[0m\u001b[1;33m(\u001b[0m\u001b[0mh5\u001b[0m\u001b[1;33m,\u001b[0m \u001b[1;34m\"202201070000_polar_pl_radar08b3_augzdr_sp_canonical.h5\"\u001b[0m\u001b[1;33m,\u001b[0m \u001b[1;34m\"../data/all_files\"\u001b[0m\u001b[1;33m)\u001b[0m\u001b[1;33m\u001b[0m\u001b[1;33m\u001b[0m\u001b[0m\n\u001b[0m",
      "\u001b[1;31mNameError\u001b[0m: name 'h5' is not defined"
     ]
    }
   ],
   "source": [
    "create_single_radar_file(h5, \"202201070000_polar_pl_radar08b3_augzdr_sp_canonical.h5\", \"../data/all_files\")"
   ]
  },
  {
   "cell_type": "code",
   "execution_count": 7,
   "id": "2c497395",
   "metadata": {},
   "outputs": [],
   "source": [
    "def select_files_angle(route, angle):\n",
    "    fileDir = os.listdir(route)\n",
    "    #gives a list of the files present at route\n",
    "    radarList = []\n",
    "    #defining an empty radar list to populate\n",
    "    for file in fileDir:\n",
    "        #This for loop cycles through all the files in fileDir and makes a temporary variable dfile assigned to the current file in question in the cycle\n",
    "        dfile =  h5py.File(route + \"/\" + file , 'r')\n",
    "        try:\n",
    "            #the temporary dfile is then 'tried'.\n",
    "            if dfile[\"what\"].attrs[\"object\"] == b'scan':\n",
    "                dfile[\"what\"].attrs.__setitem__(\"object\", \"SCAN\")\n",
    "            #I believe this for loop changes what>object to SCAN from b'scan' - if ever what>object is in fact b'scan', I don't know\n",
    "            if dfile[\"dataset1\"][\"where\"].attrs[\"elangle\"] == angle:\n",
    "                radar = pyart.aux_io.read_odim_h5(route +\"/\"+file)\n",
    "            #if the elangle under dataset1 is less than/equal to the chosen angle create the radar file, and add it to radarList\n",
    "                radarList.append(radar)\n",
    "            dfile.close()\n",
    "        except:\n",
    "            dfile.close()\n",
    "    return radarList"
   ]
  },
  {
   "cell_type": "code",
   "execution_count": 8,
   "id": "2f4b0b6d",
   "metadata": {
    "scrolled": true
   },
   "outputs": [
    {
     "ename": "FileNotFoundError",
     "evalue": "[WinError 3] The system cannot find the path specified: '../data/test_files'",
     "output_type": "error",
     "traceback": [
      "\u001b[1;31m---------------------------------------------------------------------------\u001b[0m",
      "\u001b[1;31mFileNotFoundError\u001b[0m                         Traceback (most recent call last)",
      "\u001b[1;32m~\\AppData\\Local\\Temp\\ipykernel_380\\2864149276.py\u001b[0m in \u001b[0;36m<module>\u001b[1;34m\u001b[0m\n\u001b[1;32m----> 1\u001b[1;33m \u001b[0mselect_files_angle\u001b[0m\u001b[1;33m(\u001b[0m\u001b[1;34m\"../data/test_files\"\u001b[0m\u001b[1;33m,\u001b[0m \u001b[0mangle\u001b[0m \u001b[1;33m=\u001b[0m \u001b[1;36m0.5\u001b[0m\u001b[1;33m)\u001b[0m\u001b[1;33m\u001b[0m\u001b[1;33m\u001b[0m\u001b[0m\n\u001b[0m",
      "\u001b[1;32m~\\AppData\\Local\\Temp\\ipykernel_380\\3116853610.py\u001b[0m in \u001b[0;36mselect_files_angle\u001b[1;34m(route, angle)\u001b[0m\n\u001b[0;32m      1\u001b[0m \u001b[1;32mdef\u001b[0m \u001b[0mselect_files_angle\u001b[0m\u001b[1;33m(\u001b[0m\u001b[0mroute\u001b[0m\u001b[1;33m,\u001b[0m \u001b[0mangle\u001b[0m\u001b[1;33m)\u001b[0m\u001b[1;33m:\u001b[0m\u001b[1;33m\u001b[0m\u001b[1;33m\u001b[0m\u001b[0m\n\u001b[1;32m----> 2\u001b[1;33m     \u001b[0mfileDir\u001b[0m \u001b[1;33m=\u001b[0m \u001b[0mos\u001b[0m\u001b[1;33m.\u001b[0m\u001b[0mlistdir\u001b[0m\u001b[1;33m(\u001b[0m\u001b[0mroute\u001b[0m\u001b[1;33m)\u001b[0m\u001b[1;33m\u001b[0m\u001b[1;33m\u001b[0m\u001b[0m\n\u001b[0m\u001b[0;32m      3\u001b[0m     \u001b[1;31m#gives a list of the files present at route\u001b[0m\u001b[1;33m\u001b[0m\u001b[1;33m\u001b[0m\u001b[0m\n\u001b[0;32m      4\u001b[0m     \u001b[0mradarList\u001b[0m \u001b[1;33m=\u001b[0m \u001b[1;33m[\u001b[0m\u001b[1;33m]\u001b[0m\u001b[1;33m\u001b[0m\u001b[1;33m\u001b[0m\u001b[0m\n\u001b[0;32m      5\u001b[0m     \u001b[1;31m#defining an empty radar list to populate\u001b[0m\u001b[1;33m\u001b[0m\u001b[1;33m\u001b[0m\u001b[0m\n",
      "\u001b[1;31mFileNotFoundError\u001b[0m: [WinError 3] The system cannot find the path specified: '../data/test_files'"
     ]
    }
   ],
   "source": [
    "select_files_angle(\"../data/test_files\", angle = 0.5)"
   ]
  },
  {
   "cell_type": "code",
   "execution_count": null,
   "id": "0b77978e",
   "metadata": {},
   "outputs": [],
   "source": [
    "def get_angle(fileRoute):\n",
    "    \n",
    "    try:\n",
    "        dfile =  h5py.File(fileRoute, \"r\")\n",
    "        a = dfile[\"dataset1\"][\"where\"].attrs[\"elangle\"]\n",
    "        return a\n",
    "        dfile.close()\n",
    "    except:\n",
    "        return np.nan"
   ]
  },
  {
   "cell_type": "code",
   "execution_count": null,
   "id": "76187888",
   "metadata": {},
   "outputs": [],
   "source": [
    "def build_readings_df(route):\n",
    "    df = pd.DataFrame(columns = [\"File Name\", \"Date\", \"Hour\", \"Angle\", \"Pulse\"])\n",
    "    df[\"File Name\"] = [route + \"/\"+  file for file in os.listdir(route)]\n",
    "    df[\"Date\"] = df[\"File Name\"].apply(lambda x : int(x.split(\"/\")[-1].split(\"_\")[0][:8]))\n",
    "    df[\"Hour\"] = df[\"File Name\"].apply(lambda x : int(x.split(\"/\")[-1].split(\"_\")[0][8:]))\n",
    "    df[\"Pulse\"] = df[\"File Name\"].apply(lambda x : x.split(\"_\")[6])\n",
    "    df[\"Angle\"] = df[\"File Name\"].apply(lambda x : get_angle(x))\n",
    "    return df"
   ]
  },
  {
   "cell_type": "code",
   "execution_count": null,
   "id": "f95efcb7",
   "metadata": {},
   "outputs": [],
   "source": [
    "build_readings_df(\"../data/all_data\")"
   ]
  },
  {
   "cell_type": "code",
   "execution_count": null,
   "id": "5fb186e6",
   "metadata": {},
   "outputs": [],
   "source": [
    "df = build_readings_df(\"../data/all_data\")\n",
    "df.to_csv(\"radar_df.csv\")"
   ]
  },
  {
   "cell_type": "code",
   "execution_count": null,
   "id": "75d0e821",
   "metadata": {},
   "outputs": [],
   "source": [
    "#To select a subset of the data table we use this:\n",
    "#You can edit the values of the columns to change the selected data\n",
    "selected_data = df.loc[(df[\"Pulse\"]== \"lp\")&  (df[\"Angle\"]== 0.5)] # & ((df[\"Date\"]== 20220204) | (df[\"Date\"]== 20220204))]"
   ]
  },
  {
   "cell_type": "code",
   "execution_count": null,
   "id": "4c274bba",
   "metadata": {},
   "outputs": [],
   "source": [
    "selected_data"
   ]
  },
  {
   "cell_type": "code",
   "execution_count": null,
   "id": "d1d5d43d",
   "metadata": {},
   "outputs": [],
   "source": [
    "def get_radar_list(df, date=None, hour=None, angle=None, pulse=None):\n",
    "    \n",
    "    if date is not None:\n",
    "        df = df.loc[df['Date'] == date]\n",
    "    if hour is not None:\n",
    "        df = df.loc[df['Hour'] == hour]\n",
    "    if angle is not None:\n",
    "        df = df.loc[df['Angle'] == angle]\n",
    "    if pulse is not None:\n",
    "        df = df.loc[df['Pulse'] == pulse]\n",
    "    listRadars = []\n",
    "    for route in df[\"File Name\"].values:\n",
    "        h5 = h5py.File(route, 'r')\n",
    "        originalfilename = route[19:]\n",
    "        location = route[:18]\n",
    "        listRadars.append(create_single_radar_file(h5, originalfilename, location))\n",
    "    return listRadars"
   ]
  },
  {
   "cell_type": "code",
   "execution_count": null,
   "id": "283d79cd",
   "metadata": {},
   "outputs": [],
   "source": [
    "def plot_graph(radar, vmax =None,vmin=None,gatefilter=None,name=None,save = False):\n",
    "    \n",
    "    display = pyart.graph.RadarMapDisplay(radar)\n",
    "    projection = ccrs.LambertConformal(central_latitude=radar.latitude['data'][0],\n",
    "                                       central_longitude=radar.longitude['data'][0])\n",
    "    fig, #axs = plt.subplots(nrows=2, ncols=3,figsize=(30,15),\n",
    "                                #subplot_kw={'projection': projection})\n",
    "    display.plot_ppi_map(\"total_power_horizontal\"[0],\n",
    "                         resolution='10m',\n",
    "                         #projection=projection,\n",
    "                         #fig=fig, #ax = axs[0][0],\n",
    "                         lat_0=radar.latitude['data'][0],\n",
    "                         lon_0=radar.longitude['data'][0],\n",
    "                         min_lon=radar.longitude['data'][0]+1.10, max_lon=radar.longitude['data'][0]-1.10, min_lat=radar.latitude['data'][0]+0.6, max_lat=radar.latitude['data'][0]-0.8,\n",
    "                         gatefilter=gatefilter,\n",
    "                         vmax = vmax,\n",
    "                         vmin = vmin\n",
    "                         )\n",
    "    display.plot_ray(\"total_power_horizontal\", 1)\n",
    "    display.plot_point(radar.longitude['data'][0], radar.latitude['data'][0])\n",
    "    display.plot_range_rings([35.,60.], ls='--') \n",
    "\n",
    "\n",
    "    if save:\n",
    "        plt.savefig(name)\n",
    "    plt.show()"
   ]
  },
  {
   "cell_type": "code",
   "execution_count": null,
   "id": "f983f172",
   "metadata": {},
   "outputs": [],
   "source": [
    "#This makes a list of radar objects for the selected data above\n",
    "radarList = get_radar_list(selected_data, date=\"20220106\")"
   ]
  },
  {
   "cell_type": "raw",
   "id": "2af862a6",
   "metadata": {
    "scrolled": true
   },
   "source": [
    "print(radarList)"
   ]
  },
  {
   "cell_type": "code",
   "execution_count": null,
   "id": "8bdd51e0",
   "metadata": {},
   "outputs": [],
   "source": [
    "ListofAverages = []\n",
    "ListofTimes = []\n",
    "\n",
    "for i in range(0,len(radarList)-1,1):\n",
    "    radar1= radarList[i]    \n",
    "    name=\"\"+ \"-\".join(radar1.time[\"units\"].split(\" \")[-1].split(\":\"))\n",
    "    \n",
    "    time =\"\" + \"\".join(radar1.time[\"units\"].split(\"T\")[-1].split(\"Z\"))\n",
    "    \n",
    "    print(time)\n",
    "    \n",
    "    gatefilter_lp = pyart.correct.GateFilter(radar1)  \n",
    "    gatefilter_lp.exclude_outside('normalized_coherent_power',0.2,0.8)\n",
    "    gatefilter_lp.exclude_inside('cross_correlation_ratio', 0.7,1.2)\n",
    "    \n",
    "    rayrange = np.arange(start=90, stop=270, step=1)\n",
    "\n",
    "    Total = 0\n",
    "    counter = 0\n",
    "\n",
    "    for ray in rayrange: \n",
    "\n",
    "        mask = gatefilter_lp.gate_excluded[ray]\n",
    "\n",
    "        consecutive_true_count = 0\n",
    "        for i, value in enumerate(mask):\n",
    "            if value:\n",
    "                consecutive_true_count += 1\n",
    "                if consecutive_true_count == 21:\n",
    "                    EndOfBackscatter = i-consecutive_true_count+1\n",
    "                    #print(f\"%s consecutive True values start at index {i-consecutive_true_count+1}\" % consecutive_true_count)\n",
    "                    break\n",
    "            else:\n",
    "                consecutive_true_count = 0\n",
    "\n",
    "        #print(f\"This Ray's Backscatter ends after Bin {EndOfBackscatter}\")\n",
    "\n",
    "        BackscatterRadius = EndOfBackscatter*0.6\n",
    "\n",
    "        #print(f\"each bin is 0.6km in length and therefore this index corresponds to a distance of %s\" % BackscatterRadius + \"m\")\n",
    "        #print(f\"Backscatter Radius azimuthal angle {ray}\\N{DEGREE SIGN} (clockwise from North) %s\" % BackscatterRadius + \"m\")\n",
    "        counter = counter + 1\n",
    "        Total = Total + BackscatterRadius\n",
    "\n",
    "\n",
    "    Average = Total/counter\n",
    "    print(\"For Date/Time: \" + name + f\", the average Backscatter Radius was = %s\" % Average + \"m\")\n",
    "    ListofAverages.append(Average)\n",
    "    ListofTimes.append(time)"
   ]
  },
  {
   "cell_type": "code",
   "execution_count": null,
   "id": "c7df2582",
   "metadata": {},
   "outputs": [],
   "source": [
    "y_raw = ListofAverages\n",
    "x = ListofTimes\n",
    "#y_rolling_av = moving_average(y_raw, 10)\n",
    "\n",
    "data = {'Backscatter Radius' : ListofAverages, \n",
    "        'time' : ListofTimes}\n",
    "\n",
    "plt.figure(1)\n",
    "plt.plot(data['time'] ,data['Backscatter Radius'])\n",
    "plt.gcf().autofmt_xdate()\n",
    "plt.title('Backscatter Radius against Time')\n",
    "plt.show()"
   ]
  },
  {
   "cell_type": "code",
   "execution_count": null,
   "id": "1e28fb9f",
   "metadata": {},
   "outputs": [],
   "source": []
  },
  {
   "cell_type": "code",
   "execution_count": null,
   "id": "35573a66",
   "metadata": {},
   "outputs": [],
   "source": []
  },
  {
   "cell_type": "code",
   "execution_count": null,
   "id": "f11744b3",
   "metadata": {},
   "outputs": [],
   "source": []
  },
  {
   "cell_type": "code",
   "execution_count": null,
   "id": "58cb0f94",
   "metadata": {},
   "outputs": [],
   "source": []
  },
  {
   "cell_type": "code",
   "execution_count": null,
   "id": "00e88ebc",
   "metadata": {},
   "outputs": [],
   "source": []
  }
 ],
 "metadata": {
  "kernelspec": {
   "display_name": "Python 3 (ipykernel)",
   "language": "python",
   "name": "python3"
  },
  "language_info": {
   "codemirror_mode": {
    "name": "ipython",
    "version": 3
   },
   "file_extension": ".py",
   "mimetype": "text/x-python",
   "name": "python",
   "nbconvert_exporter": "python",
   "pygments_lexer": "ipython3",
   "version": "3.9.13"
  }
 },
 "nbformat": 4,
 "nbformat_minor": 5
}
